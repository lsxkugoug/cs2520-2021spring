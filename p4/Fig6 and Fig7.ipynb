{
 "cells": [
  {
   "cell_type": "code",
   "execution_count": 15,
   "id": "9a010e25",
   "metadata": {},
   "outputs": [],
   "source": [
    "import matplotlib.pyplot as plt"
   ]
  },
  {
   "cell_type": "markdown",
   "id": "0af1d2fd",
   "metadata": {},
   "source": [
    "Extract time and latency from file"
   ]
  },
  {
   "cell_type": "code",
   "execution_count": 16,
   "id": "c8f41f07",
   "metadata": {},
   "outputs": [],
   "source": [
    "records = []\n",
    "pkt =[]\n",
    "with open('test.txt') as f:\n",
    "    records = f.readlines()\n",
    "f.close()\n",
    "\n",
    "count_over120 = 0\n",
    "count_loss = 0\n",
    "for record in records:\n",
    "    r = record.split()\n",
    "    time = int(r[0])+ int(r[1])/1000000\n",
    "    time = round(time,1)\n",
    "    latency = round(float(r[2]),2)\n",
    "    if(latency>120):\n",
    "        count_over120+=1\n",
    "        count_loss+=1\n",
    "    elif latency>65:\n",
    "        count_loss+=1\n",
    "        pkt.append((time,latency))\n",
    "    else:\n",
    "        pkt.append((time,latency))"
   ]
  },
  {
   "cell_type": "markdown",
   "id": "5e784eba",
   "metadata": {},
   "source": [
    "Draw Time - Latency (Only focus on the first two minutes)"
   ]
  },
  {
   "cell_type": "code",
   "execution_count": 30,
   "id": "2c5e6f3c",
   "metadata": {},
   "outputs": [
    {
     "data": {
      "image/png": "[encoded data removed]",
      "text/plain": [
       "<Figure size 432x288 with 1 Axes>"
      ]
     },
     "metadata": {
      "needs_background": "light"
     },
     "output_type": "display_data"
    }
   ],
   "source": [
    "firstpktT = pkt[0][0]\n",
    "redplotx =[]\n",
    "redploty =[]\n",
    "blueplotx =[]\n",
    "blueploty =[]\n",
    "for p in pkt:\n",
    "    timeval = p[0] - firstpktT\n",
    "    if( timeval<=120):\n",
    "        if((p[1]<65) and (p[1]!=0)):\n",
    "            blueplotx.append(timeval)\n",
    "            blueploty.append(p[1])\n",
    "        else:\n",
    "            redplotx.append(timeval)  \n",
    "            redploty.append(p[1])   \n",
    "plt.plot(redplotx, redploty, color='red', marker='D', linestyle='None', markersize=1)\n",
    "plt.plot(blueplotx, blueploty, color='blue', marker='D',linestyle = 'None', markersize=1)\n",
    "plt.axis([0, 120, 0, 120])\n",
    "plt.xlabel('Time(s)')\n",
    "plt.ylabel('Latency(ms)')\n",
    "plt.show()  "
   ]
  },
  {
   "cell_type": "code",
   "execution_count": 31,
   "id": "e3c6a621",
   "metadata": {},
   "outputs": [
    {
     "name": "stdout",
     "output_type": "stream",
     "text": [
      "0 lost or late packets, 0 packets with latency over 120ms not shown.\n"
     ]
    }
   ],
   "source": [
    "print(\"%d lost or late packets, %d packets with latency over 120ms not shown.\"%(count_loss,count_over120))"
   ]
  },
  {
   "cell_type": "code",
   "execution_count": null,
   "id": "0bdab015",
   "metadata": {},
   "outputs": [],
   "source": []
  },
  {
   "cell_type": "code",
   "execution_count": null,
   "id": "1422d799",
   "metadata": {},
   "outputs": [],
   "source": []
  },
  {
   "cell_type": "code",
   "execution_count": null,
   "id": "5df18696",
   "metadata": {},
   "outputs": [],
   "source": []
  },
  {
   "cell_type": "code",
   "execution_count": null,
   "id": "c4778820",
   "metadata": {},
   "outputs": [],
   "source": []
  }
 ],
 "metadata": {
  "kernelspec": {
   "display_name": "Python 3",
   "language": "python",
   "name": "python3"
  },
  "language_info": {
   "codemirror_mode": {
    "name": "ipython",
    "version": 3
   },
   "file_extension": ".py",
   "mimetype": "text/x-python",
   "name": "python",
   "nbconvert_exporter": "python",
   "pygments_lexer": "ipython3",
   "version": "3.8.8"
  }
 },
 "nbformat": 4,
 "nbformat_minor": 5
}
